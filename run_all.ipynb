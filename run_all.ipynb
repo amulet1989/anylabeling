{
 "cells": [
  {
   "cell_type": "code",
   "execution_count": 1,
   "metadata": {},
   "outputs": [],
   "source": [
    "%load_ext autoreload\n",
    "%autoreload 2"
   ]
  },
  {
   "cell_type": "markdown",
   "metadata": {},
   "source": [
    "## Convertir formato a formato yolov8 segmentation"
   ]
  },
  {
   "cell_type": "code",
   "execution_count": 3,
   "metadata": {},
   "outputs": [],
   "source": [
    "# Ejemplo de uso:\n",
    "# convert_to_yolov8_segmentation('ruta/a/dataset/original', 'ruta/a/dataset/salida')\n",
    "from src.utils import convert_to_yolov8_segmentation\n",
    "convert_to_yolov8_segmentation('Dataset/output', 'Dataset/output/CVAT')"
   ]
  },
  {
   "cell_type": "markdown",
   "metadata": {},
   "source": [
    "## Convertir de yolov8 segmentation a anylabeling"
   ]
  },
  {
   "cell_type": "code",
   "execution_count": 2,
   "metadata": {},
   "outputs": [],
   "source": [
    "from src.utils import convert_yolov8_to_custom\n",
    "# Ejemplo de uso:\n",
    "# convert_yolov8_to_custom('ruta/a/imagenes', 'ruta/a/etiquetas', 1, ['product'], 'ruta/a/dataset/salida')\n",
    "convert_yolov8_to_custom('Dataset/productos_cinta_5_6_7/validation', 'Dataset/productos_cinta_5_6_7/validation_labels', 1, ['product'], 'Dataset/output/productos_cinta_val')"
   ]
  }
 ],
 "metadata": {
  "interpreter": {
   "hash": "c3ae477fb7743e857422a82598110fa144bd9ff3b2b2d0f5f0588322ed81804f"
  },
  "kernelspec": {
   "display_name": "Python 3.12.4 ('anylabeling')",
   "language": "python",
   "name": "python3"
  },
  "language_info": {
   "codemirror_mode": {
    "name": "ipython",
    "version": 3
   },
   "file_extension": ".py",
   "mimetype": "text/x-python",
   "name": "python",
   "nbconvert_exporter": "python",
   "pygments_lexer": "ipython3",
   "version": "3.12.4"
  },
  "orig_nbformat": 4
 },
 "nbformat": 4,
 "nbformat_minor": 2
}
